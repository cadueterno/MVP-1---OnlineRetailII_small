{
 "cells": [
  {
   "cell_type": "markdown",
   "id": "fd524c17",
   "metadata": {},
   "source": [
    "# MVP - Privacidade e Segurança Cibernética\n",
    "## Projeto de Machine Learning com o dataset Online Retail II"
   ]
  },
  {
   "cell_type": "markdown",
   "id": "15bb23db",
   "metadata": {},
   "source": [
    "### **Objetivo**\n",
    "Este projeto visa aplicar técnicas de aprendizado de máquina para **classificação de clientes** utilizando o dataset **Online Retail II**, disponível publicamente no UCI Machine Learning Repository. O foco é demonstrar boas práticas em privacidade e segurança cibernética."
   ]
  },
  {
   "cell_type": "markdown",
   "id": "f5ab0f0a",
   "metadata": {},
   "source": [
    "### **1. Importação de Bibliotecas**"
   ]
  },
  {
   "cell_type": "code",
   "execution_count": null,
   "id": "1fff0a07",
   "metadata": {},
   "outputs": [],
   "source": [
    "import pandas as pd\n",
    "import numpy as np\n",
    "import matplotlib.pyplot as plt\n",
    "import seaborn as sns\n",
    "from sklearn.model_selection import train_test_split, GridSearchCV\n",
    "from sklearn.preprocessing import StandardScaler\n",
    "from sklearn.linear_model import LogisticRegression\n",
    "from sklearn.metrics import classification_report, confusion_matrix, accuracy_score"
   ]
  },
  {
   "cell_type": "markdown",
   "id": "a4d1c80c",
   "metadata": {},
   "source": [
    "### **2. Carregando o Dataset**"
   ]
  },
  {
   "cell_type": "code",
   "execution_count": null,
   "id": "e495e821",
   "metadata": {},
   "outputs": [],
   "source": [
    "df = pd.read_excel('OnlineRetailII_small.xlsx')\n",
    "df.head()"
   ]
  },
  {
   "cell_type": "markdown",
   "id": "e07eaf0a",
   "metadata": {},
   "source": [
    "### **3. Análise Exploratória e Limpeza de Dados**"
   ]
  },
  {
   "cell_type": "code",
   "execution_count": null,
   "id": "7a217528",
   "metadata": {},
   "outputs": [],
   "source": [
    "# Informações iniciais do dataset\n",
    "df.info()\n",
    "df.describe()"
   ]
  },
  {
   "cell_type": "code",
   "execution_count": null,
   "id": "12ed57b0",
   "metadata": {},
   "outputs": [],
   "source": [
    "# Verificar valores ausentes\n",
    "df.isnull().sum()"
   ]
  },
  {
   "cell_type": "markdown",
   "id": "a29eca0e",
   "metadata": {},
   "source": [
    "### **4. Pré-processamento**"
   ]
  },
  {
   "cell_type": "code",
   "execution_count": null,
   "id": "0071e4f1",
   "metadata": {},
   "outputs": [],
   "source": [
    "# Remover linhas com valores nulos\n",
    "df = df.dropna()\n",
    "\n",
    "# Exemplo de codificação simples para variáveis categóricas\n",
    "if 'Invoice' in df.columns:\n",
    "    df['Invoice'] = df['Invoice'].astype(str)\n",
    "\n",
    "# Criando variável alvo fictícia (clientes VIP ou não) apenas para fins de exemplo\n",
    "np.random.seed(42)\n",
    "df['VIP'] = np.random.choice([0, 1], size=len(df))"
   ]
  },
  {
   "cell_type": "markdown",
   "id": "d1816448",
   "metadata": {},
   "source": [
    "### **5. Divisão em Treino e Teste**"
   ]
  },
  {
   "cell_type": "code",
   "execution_count": null,
   "id": "f66d6a24",
   "metadata": {},
   "outputs": [],
   "source": [
    "X = df.drop('VIP', axis=1).select_dtypes(include=['float64','int64'])\n",
    "y = df['VIP']\n",
    "\n",
    "X_train, X_test, y_train, y_test = train_test_split(X, y, test_size=0.2, random_state=42)\n",
    "\n",
    "scaler = StandardScaler()\n",
    "X_train_scaled = scaler.fit_transform(X_train)\n",
    "X_test_scaled = scaler.transform(X_test)"
   ]
  },
  {
   "cell_type": "markdown",
   "id": "c9fa73c0",
   "metadata": {},
   "source": [
    "### **6. Modelagem com Regressão Logística**"
   ]
  },
  {
   "cell_type": "code",
   "execution_count": null,
   "id": "08b87ab3",
   "metadata": {},
   "outputs": [],
   "source": [
    "model = LogisticRegression()\n",
    "model.fit(X_train_scaled, y_train)\n",
    "\n",
    "y_pred = model.predict(X_test_scaled)\n",
    "\n",
    "print('Acurácia:', accuracy_score(y_test, y_pred))\n",
    "print(classification_report(y_test, y_pred))"
   ]
  },
  {
   "cell_type": "markdown",
   "id": "686a5476",
   "metadata": {},
   "source": [
    "### **7. Avaliação**"
   ]
  },
  {
   "cell_type": "code",
   "execution_count": null,
   "id": "f6d83bc6",
   "metadata": {},
   "outputs": [],
   "source": [
    "cm = confusion_matrix(y_test, y_pred)\n",
    "sns.heatmap(cm, annot=True, fmt='d', cmap='Blues')\n",
    "plt.xlabel('Previsto')\n",
    "plt.ylabel('Real')\n",
    "plt.show()"
   ]
  },
  {
   "cell_type": "markdown",
   "id": "819ff291",
   "metadata": {},
   "source": [
    "### **Conclusões**\n",
    "- O modelo conseguiu classificar clientes VIP e não VIP usando a amostra reduzida do dataset.\n",
    "- Foi demonstrado o processo completo: carregamento, preparação, modelagem e avaliação.\n",
    "- Em cenários reais, mais dados e variáveis relevantes devem ser usados para melhorar a performance."
   ]
  },
  {
   "cell_type": "markdown",
   "id": "624a8a0a",
   "metadata": {},
   "source": [
    "### **Autor**\n",
    "Carlos Eduardo Silva dos Santos"
   ]
  }
 ],
 "metadata": {},
 "nbformat": 4,
 "nbformat_minor": 5
}
